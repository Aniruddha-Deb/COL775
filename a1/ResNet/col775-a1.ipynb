{
 "cells": [
  {
   "cell_type": "code",
   "execution_count": 1,
   "id": "1704391c",
   "metadata": {
    "_cell_guid": "b1076dfc-b9ad-4769-8c92-a6c4dae69d19",
    "_uuid": "8f2839f25d086af736a60e9eeb907d3b93b6e0e5",
    "execution": {
     "iopub.execute_input": "2023-02-23T16:33:08.401535Z",
     "iopub.status.busy": "2023-02-23T16:33:08.400821Z",
     "iopub.status.idle": "2023-02-23T16:33:09.946469Z",
     "shell.execute_reply": "2023-02-23T16:33:09.945305Z"
    },
    "papermill": {
     "duration": 1.558018,
     "end_time": "2023-02-23T16:33:09.949264",
     "exception": false,
     "start_time": "2023-02-23T16:33:08.391246",
     "status": "completed"
    },
    "tags": []
   },
   "outputs": [],
   "source": [
    "import numpy as np\n",
    "import pandas as pd\n",
    "import torch\n",
    "import torch.nn as nn\n",
    "import torch.nn.functional as F\n",
    "import torch.optim as optim\n",
    "from tqdm import tqdm\n",
    "\n",
    "import pickle\n",
    "\n",
    "from torch.utils.data import Dataset, DataLoader, Subset"
   ]
  },
  {
   "cell_type": "code",
   "execution_count": 2,
   "id": "6dc13a61",
   "metadata": {
    "execution": {
     "iopub.execute_input": "2023-02-23T16:33:09.959053Z",
     "iopub.status.busy": "2023-02-23T16:33:09.958495Z",
     "iopub.status.idle": "2023-02-23T16:33:09.965220Z",
     "shell.execute_reply": "2023-02-23T16:33:09.964089Z"
    },
    "papermill": {
     "duration": 0.013979,
     "end_time": "2023-02-23T16:33:09.967426",
     "exception": false,
     "start_time": "2023-02-23T16:33:09.953447",
     "status": "completed"
    },
    "tags": []
   },
   "outputs": [],
   "source": [
    "\"\"\"\n",
    "PARAMETERS\n",
    "\"\"\"\n",
    "\n",
    "lr = 1e-5\n",
    "dpath = '/kaggle/input/cifar10-python/cifar-10-batches-py'\n",
    "\n",
    "splits = {\n",
    "    'train': [f'{dpath}/data_batch_{i}' for i in range(1,5)],\n",
    "    'val'  : [f'{dpath}/data_batch_5']\n",
    "}\n",
    "\n",
    "DEBUG = False\n",
    "debug_len = {\n",
    "    'train': 128,\n",
    "    'val': 32\n",
    "}"
   ]
  },
  {
   "cell_type": "code",
   "execution_count": 3,
   "id": "69ec75f5",
   "metadata": {
    "execution": {
     "iopub.execute_input": "2023-02-23T16:33:09.977342Z",
     "iopub.status.busy": "2023-02-23T16:33:09.976675Z",
     "iopub.status.idle": "2023-02-23T16:33:09.986785Z",
     "shell.execute_reply": "2023-02-23T16:33:09.985688Z"
    },
    "papermill": {
     "duration": 0.018157,
     "end_time": "2023-02-23T16:33:09.989502",
     "exception": false,
     "start_time": "2023-02-23T16:33:09.971345",
     "status": "completed"
    },
    "tags": []
   },
   "outputs": [],
   "source": [
    "class Cifar10Dataset(Dataset):\n",
    "    \n",
    "    def __init__(self, batch_files):\n",
    "        \n",
    "        image_batches = []\n",
    "        label_batches = []\n",
    "        \n",
    "        for batch_file in batch_files:\n",
    "            with open(batch_file, 'rb') as f:\n",
    "                batch = pickle.load(f, encoding='bytes')\n",
    "                image_batches.append(batch[b'data'])\n",
    "                label_batches.append(batch[b'labels'])\n",
    "        \n",
    "        self.images = torch.tensor(np.vstack(image_batches)).float()\n",
    "        self.labels = torch.tensor(np.hstack(label_batches)).long()\n",
    "        \n",
    "        # image transformations\n",
    "        mean = self.images.mean(axis=0)\n",
    "        stdev = self.images.std(axis=0)\n",
    "        \n",
    "        self.images = (self.images - mean)/stdev\n",
    "        \n",
    "        self.images = self.images.reshape((self.images.shape[0],3,32,32))\n",
    "        \n",
    "    def __len__(self):\n",
    "        return len(self.labels)\n",
    "    \n",
    "    def __getitem__(self, idx):\n",
    "        return (self.images[idx], self.labels[idx])"
   ]
  },
  {
   "cell_type": "code",
   "execution_count": 4,
   "id": "93c70dfc",
   "metadata": {
    "execution": {
     "iopub.execute_input": "2023-02-23T16:33:09.999125Z",
     "iopub.status.busy": "2023-02-23T16:33:09.998750Z",
     "iopub.status.idle": "2023-02-23T16:33:10.015438Z",
     "shell.execute_reply": "2023-02-23T16:33:10.014315Z"
    },
    "papermill": {
     "duration": 0.024688,
     "end_time": "2023-02-23T16:33:10.018196",
     "exception": false,
     "start_time": "2023-02-23T16:33:09.993508",
     "status": "completed"
    },
    "tags": []
   },
   "outputs": [],
   "source": [
    "class ResNetBlock(nn.Module):\n",
    "    \n",
    "    def __init__(self, in_channels, out_channels, downsample=False, in_dim=32*32):\n",
    "        # TODO add ReLU, BatchNorm etc\n",
    "        super().__init__()\n",
    "        \n",
    "        self.downsample = downsample\n",
    "        \n",
    "        self.relu = nn.ReLU()\n",
    "        \n",
    "        if self.downsample:\n",
    "            self.block = nn.Sequential(\n",
    "                nn.Conv2d(in_channels, out_channels, 3, stride=2, padding=1),\n",
    "                nn.BatchNorm2d(out_channels),\n",
    "                nn.ReLU(),\n",
    "                nn.Conv2d(out_channels, out_channels, 3, stride=1, padding=1),\n",
    "                nn.BatchNorm2d(out_channels)\n",
    "            )\n",
    "            self.downsampler = nn.Sequential(\n",
    "                nn.Conv2d(in_channels, out_channels, 1, stride=2),\n",
    "                nn.BatchNorm2d(out_channels),\n",
    "            )\n",
    "        else:\n",
    "            self.block = nn.Sequential(\n",
    "                nn.Conv2d(in_channels, out_channels, 3, stride=1, padding=1),\n",
    "                nn.BatchNorm2d(out_channels),\n",
    "                nn.ReLU(),\n",
    "                nn.Conv2d(out_channels, out_channels, 3, stride=1, padding=1),\n",
    "                nn.BatchNorm2d(out_channels)\n",
    "            )\n",
    "    \n",
    "    def forward(self, x):\n",
    "        \n",
    "        if self.downsample:\n",
    "            return self.relu(self.downsampler(x) + self.block(x))\n",
    "\n",
    "        return self.relu(x + self.block(x))\n",
    "\n",
    "class ResNet(nn.Module):\n",
    "    \n",
    "    def __init__(self, n, r):\n",
    "        super().__init__()\n",
    "        \n",
    "        self.network = nn.Sequential(\n",
    "            nn.Conv2d(3,16,3),\n",
    "            nn.BatchNorm2d(16),\n",
    "            nn.ReLU(),\n",
    "            nn.Sequential(*[ResNetBlock(16,16) for i in range(n)]),\n",
    "            ResNetBlock(16,32,downsample=True,in_dim=32*32),\n",
    "            nn.Sequential(*[ResNetBlock(32,32) for i in range(n-1)]),\n",
    "            ResNetBlock(32,64,downsample=True,in_dim=16*16),\n",
    "            nn.Sequential(*[ResNetBlock(64,64) for i in range(n-1)]),\n",
    "            nn.AdaptiveAvgPool2d((1,1)),\n",
    "            nn.Flatten(),\n",
    "            nn.Linear(64,r)\n",
    "        )\n",
    "    \n",
    "    def forward(self, x):\n",
    "        return self.network(x)"
   ]
  },
  {
   "cell_type": "markdown",
   "id": "a4b581c1",
   "metadata": {
    "papermill": {
     "duration": 0.003783,
     "end_time": "2023-02-23T16:33:10.026208",
     "exception": false,
     "start_time": "2023-02-23T16:33:10.022425",
     "status": "completed"
    },
    "tags": []
   },
   "source": [
    "## Setup"
   ]
  },
  {
   "cell_type": "code",
   "execution_count": 5,
   "id": "0dc5bb60",
   "metadata": {
    "execution": {
     "iopub.execute_input": "2023-02-23T16:33:10.035634Z",
     "iopub.status.busy": "2023-02-23T16:33:10.035227Z",
     "iopub.status.idle": "2023-02-23T16:33:15.434473Z",
     "shell.execute_reply": "2023-02-23T16:33:15.433520Z"
    },
    "papermill": {
     "duration": 5.407125,
     "end_time": "2023-02-23T16:33:15.437189",
     "exception": false,
     "start_time": "2023-02-23T16:33:10.030064",
     "status": "completed"
    },
    "tags": []
   },
   "outputs": [],
   "source": [
    "datasets = {split: Cifar10Dataset(batch_files) for split, batch_files in splits.items()}"
   ]
  },
  {
   "cell_type": "code",
   "execution_count": 6,
   "id": "9f735cf2",
   "metadata": {
    "execution": {
     "iopub.execute_input": "2023-02-23T16:33:15.448509Z",
     "iopub.status.busy": "2023-02-23T16:33:15.447804Z",
     "iopub.status.idle": "2023-02-23T16:33:15.453246Z",
     "shell.execute_reply": "2023-02-23T16:33:15.452126Z"
    },
    "papermill": {
     "duration": 0.01395,
     "end_time": "2023-02-23T16:33:15.455811",
     "exception": false,
     "start_time": "2023-02-23T16:33:15.441861",
     "status": "completed"
    },
    "tags": []
   },
   "outputs": [],
   "source": [
    "if DEBUG:\n",
    "    datasets = {split: Subset(dataset, np.arange(debug_len[split])) for split, dataset in datasets.items()}"
   ]
  },
  {
   "cell_type": "code",
   "execution_count": 7,
   "id": "da4ada62",
   "metadata": {
    "execution": {
     "iopub.execute_input": "2023-02-23T16:33:15.465172Z",
     "iopub.status.busy": "2023-02-23T16:33:15.464804Z",
     "iopub.status.idle": "2023-02-23T16:33:15.471502Z",
     "shell.execute_reply": "2023-02-23T16:33:15.470336Z"
    },
    "papermill": {
     "duration": 0.014474,
     "end_time": "2023-02-23T16:33:15.474219",
     "exception": false,
     "start_time": "2023-02-23T16:33:15.459745",
     "status": "completed"
    },
    "tags": []
   },
   "outputs": [],
   "source": [
    "dataloaders = {split: DataLoader(dataset, batch_size=128, num_workers=2, shuffle=True) for split, dataset in datasets.items()}"
   ]
  },
  {
   "cell_type": "code",
   "execution_count": 8,
   "id": "e30bb900",
   "metadata": {
    "execution": {
     "iopub.execute_input": "2023-02-23T16:33:15.488519Z",
     "iopub.status.busy": "2023-02-23T16:33:15.487646Z",
     "iopub.status.idle": "2023-02-23T16:33:15.516210Z",
     "shell.execute_reply": "2023-02-23T16:33:15.515000Z"
    },
    "papermill": {
     "duration": 0.038808,
     "end_time": "2023-02-23T16:33:15.518930",
     "exception": false,
     "start_time": "2023-02-23T16:33:15.480122",
     "status": "completed"
    },
    "tags": []
   },
   "outputs": [],
   "source": [
    "model = ResNet(2, 10)"
   ]
  },
  {
   "cell_type": "code",
   "execution_count": 9,
   "id": "fd7b80d4",
   "metadata": {
    "execution": {
     "iopub.execute_input": "2023-02-23T16:33:15.528762Z",
     "iopub.status.busy": "2023-02-23T16:33:15.528349Z",
     "iopub.status.idle": "2023-02-23T16:33:15.534735Z",
     "shell.execute_reply": "2023-02-23T16:33:15.533576Z"
    },
    "papermill": {
     "duration": 0.014076,
     "end_time": "2023-02-23T16:33:15.537061",
     "exception": false,
     "start_time": "2023-02-23T16:33:15.522985",
     "status": "completed"
    },
    "tags": []
   },
   "outputs": [],
   "source": [
    "optimizer = optim.SGD(model.parameters(), lr=0.1, momentum=0.9, nesterov=True)\n",
    "loss_fn = nn.CrossEntropyLoss(reduction='sum')"
   ]
  },
  {
   "cell_type": "code",
   "execution_count": 10,
   "id": "12df4609",
   "metadata": {
    "execution": {
     "iopub.execute_input": "2023-02-23T16:33:15.546955Z",
     "iopub.status.busy": "2023-02-23T16:33:15.546225Z",
     "iopub.status.idle": "2023-02-23T19:25:46.443805Z",
     "shell.execute_reply": "2023-02-23T19:25:46.442557Z"
    },
    "papermill": {
     "duration": 10350.915261,
     "end_time": "2023-02-23T19:25:46.456294",
     "exception": false,
     "start_time": "2023-02-23T16:33:15.541033",
     "status": "completed"
    },
    "tags": []
   },
   "outputs": [
    {
     "name": "stderr",
     "output_type": "stream",
     "text": [
      "  1%|          | 1/100 [01:42<2:49:44, 102.87s/it]"
     ]
    },
    {
     "name": "stdout",
     "output_type": "stream",
     "text": [
      "Epoch 0:\n",
      "    Train loss : 9.504398501586914\n",
      "    Val loss   : 5.77405901260376\n"
     ]
    },
    {
     "name": "stderr",
     "output_type": "stream",
     "text": [
      "  6%|▌         | 6/100 [10:22<2:42:48, 103.92s/it]"
     ]
    },
    {
     "name": "stdout",
     "output_type": "stream",
     "text": [
      "Epoch 5:\n",
      "    Train loss : 11.258477173614502\n",
      "    Val loss   : 16.439736196899414\n"
     ]
    },
    {
     "name": "stderr",
     "output_type": "stream",
     "text": [
      " 11%|█         | 11/100 [19:03<2:34:36, 104.23s/it]"
     ]
    },
    {
     "name": "stdout",
     "output_type": "stream",
     "text": [
      "Epoch 10:\n",
      "    Train loss : 8.295336418914795\n",
      "    Val loss   : 8.76015319519043\n"
     ]
    },
    {
     "name": "stderr",
     "output_type": "stream",
     "text": [
      " 16%|█▌        | 16/100 [27:46<2:26:17, 104.50s/it]"
     ]
    },
    {
     "name": "stdout",
     "output_type": "stream",
     "text": [
      "Epoch 15:\n",
      "    Train loss : 11.882509407043457\n",
      "    Val loss   : 11.167530472564698\n"
     ]
    },
    {
     "name": "stderr",
     "output_type": "stream",
     "text": [
      " 21%|██        | 21/100 [36:25<2:16:34, 103.73s/it]"
     ]
    },
    {
     "name": "stdout",
     "output_type": "stream",
     "text": [
      "Epoch 20:\n",
      "    Train loss : 11.182289018249511\n",
      "    Val loss   : 10.8218157913208\n"
     ]
    },
    {
     "name": "stderr",
     "output_type": "stream",
     "text": [
      " 26%|██▌       | 26/100 [45:01<2:07:20, 103.25s/it]"
     ]
    },
    {
     "name": "stdout",
     "output_type": "stream",
     "text": [
      "Epoch 25:\n",
      "    Train loss : 11.914834887695312\n",
      "    Val loss   : 16.680268853759767\n"
     ]
    },
    {
     "name": "stderr",
     "output_type": "stream",
     "text": [
      " 31%|███       | 31/100 [53:35<1:58:20, 102.90s/it]"
     ]
    },
    {
     "name": "stdout",
     "output_type": "stream",
     "text": [
      "Epoch 30:\n",
      "    Train loss : 10.908346574401856\n",
      "    Val loss   : 11.921270120239258\n"
     ]
    },
    {
     "name": "stderr",
     "output_type": "stream",
     "text": [
      " 36%|███▌      | 36/100 [1:02:05<1:48:58, 102.17s/it]"
     ]
    },
    {
     "name": "stdout",
     "output_type": "stream",
     "text": [
      "Epoch 35:\n",
      "    Train loss : 8.77660292892456\n",
      "    Val loss   : 3.89452693939209\n"
     ]
    },
    {
     "name": "stderr",
     "output_type": "stream",
     "text": [
      " 41%|████      | 41/100 [1:10:41<1:41:18, 103.02s/it]"
     ]
    },
    {
     "name": "stdout",
     "output_type": "stream",
     "text": [
      "Epoch 40:\n",
      "    Train loss : 11.319680911254883\n",
      "    Val loss   : 20.098130291748046\n"
     ]
    },
    {
     "name": "stderr",
     "output_type": "stream",
     "text": [
      " 46%|████▌     | 46/100 [1:19:19<1:33:12, 103.56s/it]"
     ]
    },
    {
     "name": "stdout",
     "output_type": "stream",
     "text": [
      "Epoch 45:\n",
      "    Train loss : 12.601937065124512\n",
      "    Val loss   : 12.91854533996582\n"
     ]
    },
    {
     "name": "stderr",
     "output_type": "stream",
     "text": [
      " 51%|█████     | 51/100 [1:27:57<1:24:42, 103.73s/it]"
     ]
    },
    {
     "name": "stdout",
     "output_type": "stream",
     "text": [
      "Epoch 50:\n",
      "    Train loss : 10.944872436523438\n",
      "    Val loss   : 9.012488445281983\n"
     ]
    },
    {
     "name": "stderr",
     "output_type": "stream",
     "text": [
      " 56%|█████▌    | 56/100 [1:36:37<1:16:12, 103.93s/it]"
     ]
    },
    {
     "name": "stdout",
     "output_type": "stream",
     "text": [
      "Epoch 55:\n",
      "    Train loss : 12.708818811035156\n",
      "    Val loss   : 9.96722561340332\n"
     ]
    },
    {
     "name": "stderr",
     "output_type": "stream",
     "text": [
      " 61%|██████    | 61/100 [1:45:14<1:07:13, 103.43s/it]"
     ]
    },
    {
     "name": "stdout",
     "output_type": "stream",
     "text": [
      "Epoch 60:\n",
      "    Train loss : 10.602557249450683\n",
      "    Val loss   : 7.871742961883545\n"
     ]
    },
    {
     "name": "stderr",
     "output_type": "stream",
     "text": [
      " 66%|██████▌   | 66/100 [1:53:50<58:34, 103.38s/it]  "
     ]
    },
    {
     "name": "stdout",
     "output_type": "stream",
     "text": [
      "Epoch 65:\n",
      "    Train loss : 11.224377488708496\n",
      "    Val loss   : 12.715613660430908\n"
     ]
    },
    {
     "name": "stderr",
     "output_type": "stream",
     "text": [
      " 71%|███████   | 71/100 [2:02:26<49:56, 103.33s/it]"
     ]
    },
    {
     "name": "stdout",
     "output_type": "stream",
     "text": [
      "Epoch 70:\n",
      "    Train loss : 11.62119489440918\n",
      "    Val loss   : 8.431861456298828\n"
     ]
    },
    {
     "name": "stderr",
     "output_type": "stream",
     "text": [
      " 76%|███████▌  | 76/100 [2:11:00<41:09, 102.91s/it]"
     ]
    },
    {
     "name": "stdout",
     "output_type": "stream",
     "text": [
      "Epoch 75:\n",
      "    Train loss : 11.304061478424073\n",
      "    Val loss   : 11.947102238464355\n"
     ]
    },
    {
     "name": "stderr",
     "output_type": "stream",
     "text": [
      " 81%|████████  | 81/100 [2:19:38<32:50, 103.70s/it]"
     ]
    },
    {
     "name": "stdout",
     "output_type": "stream",
     "text": [
      "Epoch 80:\n",
      "    Train loss : 8.779467740631103\n",
      "    Val loss   : 8.332657278442383\n"
     ]
    },
    {
     "name": "stderr",
     "output_type": "stream",
     "text": [
      " 86%|████████▌ | 86/100 [2:28:16<24:10, 103.64s/it]"
     ]
    },
    {
     "name": "stdout",
     "output_type": "stream",
     "text": [
      "Epoch 85:\n",
      "    Train loss : 11.465520629119872\n",
      "    Val loss   : 9.873566395568847\n"
     ]
    },
    {
     "name": "stderr",
     "output_type": "stream",
     "text": [
      " 91%|█████████ | 91/100 [2:36:57<15:36, 104.06s/it]"
     ]
    },
    {
     "name": "stdout",
     "output_type": "stream",
     "text": [
      "Epoch 90:\n",
      "    Train loss : 11.460832919311523\n",
      "    Val loss   : 17.80714090576172\n"
     ]
    },
    {
     "name": "stderr",
     "output_type": "stream",
     "text": [
      " 96%|█████████▌| 96/100 [2:45:36<06:54, 103.62s/it]"
     ]
    },
    {
     "name": "stdout",
     "output_type": "stream",
     "text": [
      "Epoch 95:\n",
      "    Train loss : 8.238671006011963\n",
      "    Val loss   : 10.77266287689209\n"
     ]
    },
    {
     "name": "stderr",
     "output_type": "stream",
     "text": [
      "100%|██████████| 100/100 [2:52:30<00:00, 103.51s/it]\n"
     ]
    }
   ],
   "source": [
    "train_losses = []\n",
    "val_losses = []\n",
    "for i in tqdm(range(100)):\n",
    "    \n",
    "    curr_train_loss = 0\n",
    "    curr_val_loss = 0\n",
    "    \n",
    "    model.train()\n",
    "    # training\n",
    "    for images, labels in dataloaders['train']:\n",
    "        \n",
    "        optimizer.zero_grad()\n",
    "        \n",
    "        outputs = model(images)\n",
    "        \n",
    "        loss = loss_fn(outputs, labels)\n",
    "        loss.backward()\n",
    "        optimizer.step()\n",
    "        \n",
    "        curr_train_loss += loss.detach().item()\n",
    "\n",
    "    \n",
    "    model.eval()\n",
    "    with torch.no_grad():\n",
    "        # validation\n",
    "        for images, labels in dataloaders['val']:\n",
    "            outputs = model(images)\n",
    "            loss = loss_fn(outputs, labels)\n",
    "            curr_val_loss += loss.detach().item()\n",
    "        \n",
    "    curr_train_loss /= len(datasets['train'])\n",
    "    curr_val_loss /= len(datasets['val'])\n",
    "    \n",
    "    train_losses.append(curr_train_loss)\n",
    "    val_losses.append(curr_val_loss)\n",
    "    \n",
    "    if (i%5 == 0):\n",
    "        print(f\"Epoch {i}:\")\n",
    "        print(f\"    Train loss : {curr_train_loss}\")\n",
    "        print(f\"    Val loss   : {curr_val_loss}\")"
   ]
  },
  {
   "cell_type": "code",
   "execution_count": 11,
   "id": "749f425a",
   "metadata": {
    "execution": {
     "iopub.execute_input": "2023-02-23T19:25:46.481864Z",
     "iopub.status.busy": "2023-02-23T19:25:46.481402Z",
     "iopub.status.idle": "2023-02-23T19:25:46.767645Z",
     "shell.execute_reply": "2023-02-23T19:25:46.766775Z"
    },
    "papermill": {
     "duration": 0.302338,
     "end_time": "2023-02-23T19:25:46.770206",
     "exception": false,
     "start_time": "2023-02-23T19:25:46.467868",
     "status": "completed"
    },
    "tags": []
   },
   "outputs": [
    {
     "data": {
      "text/plain": [
       "[<matplotlib.lines.Line2D at 0x7efe94d4c350>]"
      ]
     },
     "execution_count": 11,
     "metadata": {},
     "output_type": "execute_result"
    },
    {
     "data": {
      "image/png": "[encoded data removed]",
      "text/plain": [
       "<Figure size 640x480 with 1 Axes>"
      ]
     },
     "metadata": {},
     "output_type": "display_data"
    }
   ],
   "source": [
    "import matplotlib.pyplot as plt\n",
    "plt.plot(train_losses)\n",
    "plt.plot(val_losses)"
   ]
  },
  {
   "cell_type": "code",
   "execution_count": null,
   "id": "74e1e7d0",
   "metadata": {
    "papermill": {
     "duration": 0.012833,
     "end_time": "2023-02-23T19:25:46.796505",
     "exception": false,
     "start_time": "2023-02-23T19:25:46.783672",
     "status": "completed"
    },
    "tags": []
   },
   "outputs": [],
   "source": []
  }
 ],
 "metadata": {
  "kernelspec": {
   "display_name": "Python 3",
   "language": "python",
   "name": "python3"
  },
  "language_info": {
   "codemirror_mode": {
    "name": "ipython",
    "version": 3
   },
   "file_extension": ".py",
   "mimetype": "text/x-python",
   "name": "python",
   "nbconvert_exporter": "python",
   "pygments_lexer": "ipython3",
   "version": "3.7.12"
  },
  "papermill": {
   "default_parameters": {},
   "duration": 10367.67828,
   "end_time": "2023-02-23T19:25:47.849993",
   "environment_variables": {},
   "exception": null,
   "input_path": "__notebook__.ipynb",
   "output_path": "__notebook__.ipynb",
   "parameters": {},
   "start_time": "2023-02-23T16:33:00.171713",
   "version": "2.3.4"
  }
 },
 "nbformat": 4,
 "nbformat_minor": 5
}
